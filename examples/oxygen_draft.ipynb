{
 "cells": [
  {
   "cell_type": "markdown",
   "id": "87f7ee63",
   "metadata": {},
   "source": [
    "# First trial and errors in developing the code"
   ]
  },
  {
   "cell_type": "code",
   "execution_count": 101,
   "id": "7298f3bf",
   "metadata": {},
   "outputs": [],
   "source": [
    "import numpy as np\n",
    "import pandas as pd\n",
    "import matplotlib.pyplot as plt\n",
    "from matplotlib import rcParams\n",
    "from scipy.integrate import quad\n",
    "from scipy.integrate import cumulative_trapezoid as cumtrapz"
   ]
  },
  {
   "cell_type": "code",
   "execution_count": 102,
   "id": "c8cfca9b",
   "metadata": {},
   "outputs": [],
   "source": [
    "params = {\n",
    "   'axes.labelsize': 15,\n",
    "   'font.size': 15,\n",
    "   'legend.fontsize': 10,\n",
    "   'xtick.labelsize': 15,\n",
    "   'ytick.labelsize': 15,\n",
    "   'text.usetex': True, #to use TeX in your labels\n",
    "   'font.family':'serif',\n",
    "   'axes.titlesize': 15\n",
    "   }\n",
    "rcParams.update(params)"
   ]
  },
  {
   "cell_type": "markdown",
   "id": "d5be7551",
   "metadata": {},
   "source": [
    "If you have an equation with the form:\n",
    "\n",
    "$\\dot{y} + p(y)y = f(t)$"
   ]
  },
  {
   "cell_type": "code",
   "execution_count": 103,
   "id": "8dc76b73",
   "metadata": {},
   "outputs": [],
   "source": [
    "eta = 2.5\n",
    "m_o_cc = 0.015\n",
    "r = 0.4\n",
    "tau_star = 1 #Gyr\n",
    "tau_dep = 0.323 #Gyr\n",
    "\n",
    "def tau_dep_custom(tau_star, eta, r):\n",
    "    return tau_star/(1 + eta - r)\n",
    "\n",
    "def mu_t(p_t, t_start, t_end, n_bins = 100):\n",
    "    grid = np.linspace(t_start, t_end, n_bins)\n",
    "    integral = cumtrapz(p_t, grid, initial=0)\n",
    "    mu_t = np.exp(integral)\n",
    "    return mu_t\n",
    "\n",
    "def y_t(mu, f, t_start, t_end, n_bins = 100, initial_y = 0):\n",
    "    grid = np.linspace(t_start, t_end, n_bins)\n",
    "    function_to_integrate = mu * f\n",
    "    integral = cumtrapz(function_to_integrate, grid, initial=0)\n",
    "    y_t = 1/mu * integral + initial_y\n",
    "    return y_t"
   ]
  },
  {
   "cell_type": "code",
   "execution_count": null,
   "id": "5d4be47c",
   "metadata": {},
   "outputs": [],
   "source": [
    "def solve_for_M_o(t_array, M_g_array, tau_dep, o_yield, tau_star):\n",
    "    \"\"\"\n",
    "    Solve for the oxygen mass M_O, given gas mass M_g(t) as a function of time.\n",
    "\n",
    "    Parameters\n",
    "    ----------\n",
    "    t_array : array_like\n",
    "        1D array of time values.\n",
    "    M_g_array : array_like\n",
    "        1D array of gas mass values corresponding to `t_array`.\n",
    "    tau_dep : float\n",
    "        Gas depletion timescale.\n",
    "    o_yield : float\n",
    "        IMF-integrated CCSN oxygen yield\n",
    "    tau_star : float\n",
    "        Star formation efficiency (SFE) timescale\n",
    "\n",
    "    Returns\n",
    "    -------\n",
    "    t_array : ndarray\n",
    "        The same time grid as input.\n",
    "    M_O_array : ndarray\n",
    "        Oxygen mass as a function of time, evaluated on `t_array`.\n",
    "    \n",
    "    \"\"\"\n",
    "\n",
    "    p_t = 1/tau_dep * np.ones(len(t_array))\n",
    "    f_t = o_yield / tau_star * M_g_array\n",
    "    integral_p = cumtrapz(p_t, t_array, initial=0)\n",
    "    mu_t = np.exp(integral_p)\n",
    "    integral_mu_f = cumtrapz(mu_t * f_t, t_array, initial=0)\n",
    "    M_O_array = 1/mu_t * integral_mu_f\n",
    "    return t_array, M_O_array\n"
   ]
  },
  {
   "cell_type": "code",
   "execution_count": 133,
   "id": "3dfd25bf",
   "metadata": {},
   "outputs": [],
   "source": [
    "#sanity checks, exponential SFR\n",
    "def Z_o_exp_sfr(t, m_o_cc, eta, r, tau_dep):\n",
    "    Z_o = m_o_cc/(1 + eta - r) * (1 - np.exp(-t / tau_dep))\n",
    "    return Z_o"
   ]
  },
  {
   "cell_type": "code",
   "execution_count": 134,
   "id": "55a796cd",
   "metadata": {},
   "outputs": [],
   "source": [
    "# Exponential SFR, numerical check\n",
    "ts = np.linspace(0,5,100)\n",
    "p_t = np.ones(100) * 1/tau_dep\n",
    "f_t = np.ones(100) * m_o_cc/tau_star\n",
    "\n",
    "numerical_mu = mu_t(p_t, 0, ts[-1], n_bins=100)\n",
    "numerical_y_t = y_t(numerical_mu, f_t, t_start=0, t_end=ts[-1])"
   ]
  },
  {
   "cell_type": "code",
   "execution_count": 135,
   "id": "25ae33b1",
   "metadata": {},
   "outputs": [],
   "source": [
    "times_test, M_O_df_test = solve_for_M_o(ts, np.ones(len(ts)), tau_dep, m_o_cc, tau_star)"
   ]
  },
  {
   "cell_type": "code",
   "execution_count": 136,
   "id": "1212675f",
   "metadata": {},
   "outputs": [
    {
     "data": {
      "image/png": "[encoded data removed]",
      "text/plain": [
       "<Figure size 640x480 with 1 Axes>"
      ]
     },
     "metadata": {},
     "output_type": "display_data"
    }
   ],
   "source": [
    "Z_o_exp_sfr_check = Z_o_exp_sfr(ts, m_o_cc, eta, r, tau_dep)\n",
    "\n",
    "plt.plot(ts, Z_o_exp_sfr_check, color = 'blue', marker='*')\n",
    "plt.plot(ts, numerical_y_t, color = 'red', marker = 'o')\n",
    "plt.plot(times_test, M_O_df_test, color = 'orange', marker='^')\n",
    "#plt.xlim(0,1)\n",
    "#plt.yscale('log')\n",
    "#plt.xscale('log')\n",
    "plt.show()"
   ]
  },
  {
   "cell_type": "code",
   "execution_count": 115,
   "id": "7fcb2890",
   "metadata": {},
   "outputs": [],
   "source": [
    "#Equilibrium values, let's compare\n",
    "\n",
    "def Z_o_eq(m_o_cc, eta, r, tau_star, tau_sfh):\n",
    "    return m_o_cc/(1 + eta - r - tau_star/tau_sfh)\n",
    "\n",
    "\n",
    "Z_o_eq_exp_sfr = Z_o_eq(m_o_cc, eta, r, tau_star, tau_sfh=6)"
   ]
  },
  {
   "cell_type": "code",
   "execution_count": 121,
   "id": "9032feca",
   "metadata": {},
   "outputs": [
    {
     "data": {
      "image/png": "[encoded data removed]",
      "text/plain": [
       "<Figure size 640x480 with 1 Axes>"
      ]
     },
     "metadata": {},
     "output_type": "display_data"
    }
   ],
   "source": [
    "Z_o_exp_sfr_check = Z_o_exp_sfr(ts, m_o_cc, eta, r, tau_dep)\n",
    "\n",
    "plt.plot(ts, Z_o_exp_sfr_check, color = 'blue', marker='*', alpha = 1)\n",
    "plt.plot(ts, numerical_y_t, color = 'red', marker = 'o', alpha = 0.5)\n",
    "plt.plot(M_O_df_test['t'], M_O_df_test['M_O'], color = 'orange', marker='^', alpha = 0.5)\n",
    "plt.axhline(Z_o_eq_exp_sfr, color = 'magenta', label = 'equilibrium value')\n",
    "#plt.xlim(0,1)\n",
    "#plt.yscale('log')\n",
    "#plt.xscale('log')\n",
    "plt.show()"
   ]
  },
  {
   "cell_type": "code",
   "execution_count": 109,
   "id": "147a7440",
   "metadata": {},
   "outputs": [
    {
     "data": {
      "text/plain": [
       "\"def M_g_t(t):\\n    return t**2 - t\\n\\n# Exponential SFR, numerical check\\nts = np.linspace(0,5,100)\\np_t = np.ones(100) * 1/tau_dep\\nf_t = M_g_t(ts) * m_o_cc/tau_star \\n\\nnumerical_mu = mu_t(p_t, 0, ts[-1], n_bins=100)\\nnumerical_y_t = y_t(numerical_mu, f_t, t_start=0, t_end=ts[-1])\\n\\nplt.plot(ts, numerical_y_t, color = 'red')\\nplt.show()\\n\""
      ]
     },
     "execution_count": 109,
     "metadata": {},
     "output_type": "execute_result"
    }
   ],
   "source": [
    "\"\"\"def M_g_t(t):\n",
    "    return t**2 - t\n",
    "\n",
    "# Exponential SFR, numerical check\n",
    "ts = np.linspace(0,5,100)\n",
    "p_t = np.ones(100) * 1/tau_dep\n",
    "f_t = M_g_t(ts) * m_o_cc/tau_star \n",
    "\n",
    "numerical_mu = mu_t(p_t, 0, ts[-1], n_bins=100)\n",
    "numerical_y_t = y_t(numerical_mu, f_t, t_start=0, t_end=ts[-1])\n",
    "\n",
    "plt.plot(ts, numerical_y_t, color = 'red')\n",
    "plt.show()\n",
    "\"\"\""
   ]
  },
  {
   "cell_type": "code",
   "execution_count": null,
   "id": "e107897c",
   "metadata": {},
   "outputs": [],
   "source": []
  }
 ],
 "metadata": {
  "kernelspec": {
   "display_name": "haniyeh_research",
   "language": "python",
   "name": "python3"
  },
  "language_info": {
   "codemirror_mode": {
    "name": "ipython",
    "version": 3
   },
   "file_extension": ".py",
   "mimetype": "text/x-python",
   "name": "python",
   "nbconvert_exporter": "python",
   "pygments_lexer": "ipython3",
   "version": "3.13.2"
  }
 },
 "nbformat": 4,
 "nbformat_minor": 5
}
